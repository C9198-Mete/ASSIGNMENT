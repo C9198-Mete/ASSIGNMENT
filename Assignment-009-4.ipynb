{
 "cells": [
  {
   "cell_type": "code",
   "execution_count": 2,
   "source": [
    "number = int(input(\"Enter any number: \"))\r\n",
    "\r\n",
    "if number > 1:\r\n",
    "    for i in range(2, number):\r\n",
    "        if (number % i) == 0:\r\n",
    "            print(number, \"is not a prime number\")\r\n",
    "            break\r\n",
    "    else:\r\n",
    "        print(number, \"is a prime number\")\r\n",
    "\r\n",
    "else:\r\n",
    "    print(number, \"is not a prime number\")"
   ],
   "outputs": [
    {
     "output_type": "stream",
     "name": "stdout",
     "text": [
      "12 is not a prime number\n"
     ]
    }
   ],
   "metadata": {}
  },
  {
   "cell_type": "code",
   "execution_count": null,
   "source": [],
   "outputs": [],
   "metadata": {}
  }
 ],
 "metadata": {
  "orig_nbformat": 4,
  "language_info": {
   "name": "python",
   "version": "3.9.6",
   "mimetype": "text/x-python",
   "codemirror_mode": {
    "name": "ipython",
    "version": 3
   },
   "pygments_lexer": "ipython3",
   "nbconvert_exporter": "python",
   "file_extension": ".py"
  },
  "kernelspec": {
   "name": "python3",
   "display_name": "Python 3.9.6 64-bit"
  },
  "interpreter": {
   "hash": "c7c795ceb90a1e9ce126740c26b69a539ac4d6b6de3227ab1efd70667c579877"
  }
 },
 "nbformat": 4,
 "nbformat_minor": 2
}