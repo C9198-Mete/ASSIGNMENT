{
 "cells": [
  {
   "cell_type": "code",
   "execution_count": 7,
   "source": [
    "x, y = 1, 1\r\n",
    "list_fib = []\r\n",
    "while x <= 55:\r\n",
    "    list_fib.append(x)\r\n",
    "    x, y = y, x + y\r\n",
    "print(list_fib)"
   ],
   "outputs": [
    {
     "output_type": "stream",
     "name": "stdout",
     "text": [
      "[89, 89, 89, 89, 89, 89, 89, 89, 89, 89]\n"
     ]
    }
   ],
   "metadata": {}
  },
  {
   "cell_type": "code",
   "execution_count": null,
   "source": [],
   "outputs": [],
   "metadata": {}
  }
 ],
 "metadata": {
  "orig_nbformat": 4,
  "language_info": {
   "name": "python",
   "version": "3.9.6",
   "mimetype": "text/x-python",
   "codemirror_mode": {
    "name": "ipython",
    "version": 3
   },
   "pygments_lexer": "ipython3",
   "nbconvert_exporter": "python",
   "file_extension": ".py"
  },
  "kernelspec": {
   "name": "python3",
   "display_name": "Python 3.9.6 64-bit"
  },
  "interpreter": {
   "hash": "c7c795ceb90a1e9ce126740c26b69a539ac4d6b6de3227ab1efd70667c579877"
  }
 },
 "nbformat": 4,
 "nbformat_minor": 2
}