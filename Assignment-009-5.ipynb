{
 "cells": [
  {
   "cell_type": "code",
   "execution_count": 3,
   "source": [
    "def fib(n):\r\n",
    "    a, b = 0, 1\r\n",
    "    while a < n :\r\n",
    "        print(a, end =\" \")\r\n",
    "        a, b = b, a + b\r\n",
    "    print()\r\n",
    "\r\n",
    "fib(56)\r\n"
   ],
   "outputs": [
    {
     "output_type": "stream",
     "name": "stdout",
     "text": [
      "0 1 1 2 3 5 8 13 21 34 55 \n"
     ]
    }
   ],
   "metadata": {}
  },
  {
   "cell_type": "code",
   "execution_count": null,
   "source": [],
   "outputs": [],
   "metadata": {}
  }
 ],
 "metadata": {
  "orig_nbformat": 4,
  "language_info": {
   "name": "python",
   "version": "3.9.6",
   "mimetype": "text/x-python",
   "codemirror_mode": {
    "name": "ipython",
    "version": 3
   },
   "pygments_lexer": "ipython3",
   "nbconvert_exporter": "python",
   "file_extension": ".py"
  },
  "kernelspec": {
   "name": "python3",
   "display_name": "Python 3.9.6 64-bit"
  },
  "interpreter": {
   "hash": "c7c795ceb90a1e9ce126740c26b69a539ac4d6b6de3227ab1efd70667c579877"
  }
 },
 "nbformat": 4,
 "nbformat_minor": 2
}