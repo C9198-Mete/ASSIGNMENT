{
 "metadata": {
  "language_info": {
   "codemirror_mode": {
    "name": "ipython",
    "version": 3
   },
   "file_extension": ".py",
   "mimetype": "text/x-python",
   "name": "python",
   "nbconvert_exporter": "python",
   "pygments_lexer": "ipython3",
   "version": "3.9.6"
  },
  "orig_nbformat": 4,
  "kernelspec": {
   "name": "python3",
   "display_name": "Python 3.9.6 64-bit"
  },
  "interpreter": {
   "hash": "c7c795ceb90a1e9ce126740c26b69a539ac4d6b6de3227ab1efd70667c579877"
  }
 },
 "nbformat": 4,
 "nbformat_minor": 2,
 "cells": [
  {
   "source": [
    "Write a Python program that;\n",
    "takes a positive integer number from the user,\n",
    "checks the entered number if it is Armstrong,\n",
    "consider the negative, float and any entries other than numeric values then display a warning message to the user."
   ],
   "cell_type": "markdown",
   "metadata": {}
  },
  {
   "cell_type": "code",
   "execution_count": 60,
   "metadata": {},
   "outputs": [
    {
     "output_type": "stream",
     "name": "stdout",
     "text": [
      "213123 is not an Armstrong number\n"
     ]
    }
   ],
   "source": [
    "sayi = input(\"Enter a number: \")\n",
    "n = len(str(sayi))  \n",
    "toplam = 0    \n",
    "if sayi.isdigit(): \n",
    "    a = int(sayi)\n",
    "    while a > 0:  \n",
    "       b = a % 10  \n",
    "       toplam += b ** n  \n",
    "       a //= 10  \n",
    "    if sayi == toplam:  \n",
    "       print(sayi,\"is an Armstrong number\")  \n",
    "    else:  \n",
    "       print(sayi,\"is not an Armstrong number\") \n",
    "else:\n",
    "    print(\"It is an invalid entry. Don't use non-numeric, float, or negative values!\") \n"
   ]
  }
 ]
}