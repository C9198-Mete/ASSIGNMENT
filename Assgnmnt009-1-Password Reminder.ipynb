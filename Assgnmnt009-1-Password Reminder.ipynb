{
 "metadata": {
  "language_info": {
   "codemirror_mode": {
    "name": "ipython",
    "version": 3
   },
   "file_extension": ".py",
   "mimetype": "text/x-python",
   "name": "python",
   "nbconvert_exporter": "python",
   "pygments_lexer": "ipython3",
   "version": 3
  },
  "orig_nbformat": 4
 },
 "nbformat": 4,
 "nbformat_minor": 2,
 "cells": [
  {
   "source": [
    "Task : Let's say; you left a message in the past that prints a password you need. To see the password you wrote, you need to enter your name and the program should recognize you.\n",
    "Write a program that \n",
    "\n",
    "Takes the first name from the user and compares it to yours,\n",
    "Then if the name the user entered is the same as yours, print out such as : \"Hello, Joseph! The password is : W@12\",\n",
    "If the name the user entered is not the same as yours, print out such as : \"Hello, Amina! See you later.\""
   ],
   "cell_type": "markdown",
   "metadata": {}
  },
  {
   "cell_type": "code",
   "execution_count": null,
   "metadata": {},
   "outputs": [],
   "source": [
    "name = input(\"Enter your name:\").capitalize()\n",
    "my_name = \"Mete\"\n",
    "if name == my_name:\n",
    "    print(\"Hello, {}! The password is : W@12\".format(my_name))\n",
    "else:\n",
    "    print(\"Hello, {}! See you later.\".format(name))"
   ]
  }
 ]
}